{
 "cells": [
  {
   "cell_type": "code",
   "execution_count": null,
   "metadata": {},
   "outputs": [],
   "source": [
    "import pandas as pd\n",
    "import matplotlib.pyplot as plt\n",
    "import numpy as np\n",
    "from textwrap import wrap\n",
    "import concurrent"
   ]
  },
  {
   "cell_type": "markdown",
   "metadata": {},
   "source": [
    "# Read Required files"
   ]
  },
  {
   "cell_type": "code",
   "execution_count": null,
   "metadata": {},
   "outputs": [],
   "source": [
    "vm = pd.read_csv(\"data/vm.csv\")\n",
    "vmType = pd.read_csv(\"data/vmType.csv\")"
   ]
  },
  {
   "cell_type": "code",
   "execution_count": null,
   "metadata": {},
   "outputs": [],
   "source": [
    "def calculate_active_time(data):\n",
    "    duplicate = data['timeStamp'] \n",
    "    duplicate = pd.concat([duplicate[1:], pd.Series([14])]).reset_index(drop = True)\n",
    "    data['afterTime'] = duplicate\n",
    "    data['activeTime'] = (data['afterTime'] - data['timeStamp']) * data['nBin']\n",
    "    total = data['activeTime'].sum()\n",
    "    return total"
   ]
  },
  {
   "cell_type": "code",
   "execution_count": null,
   "metadata": {},
   "outputs": [],
   "source": [
    "mapping = {}\n",
    "for index, df in vmType.groupby('machineId'):\n",
    "    if index == 17: # empty requests\n",
    "        continue\n",
    "    if index == 20: # empty requests\n",
    "        continue\n",
    "    if index == 33: # crash \n",
    "        continue\n",
    "    \n",
    "    df_list = df.vmTypeId.to_list()\n",
    "    yes = True\n",
    "    \n",
    "    for k,v in mapping.items():\n",
    "        if(index == 30):\n",
    "            break\n",
    "        if(set(v) == set(df_list)):\n",
    "            print(index, k)\n",
    "            yes = False\n",
    "            break\n",
    "        \n",
    "    if yes:\n",
    "        mapping[index] = df_list\n",
    "validIds = list(mapping.keys())\n",
    "print(validIds)\n",
    "\n",
    "print(len(validIds))"
   ]
  },
  {
   "cell_type": "code",
   "execution_count": null,
   "metadata": {},
   "outputs": [],
   "source": [
    "def valid(data):\n",
    "    # if data[(data.timeStamp < 0) | (data.timeStamp > 14)].shape[0] != 0:\n",
    "    #     return False\n",
    "    if data.iloc[0,1] != 1 or data.iloc[data.shape[0] - 1, 1] != 0:\n",
    "        return False\n",
    "    return True"
   ]
  },
  {
   "cell_type": "code",
   "execution_count": null,
   "metadata": {},
   "outputs": [],
   "source": [
    "nclairalgo = [\"FirstFit\", \"BestFit\", \"WorstFit\", \"NextFit\", \"RRNextFit\", \"MRU\", \"LRU\"]\n",
    "bestfit = [\"BestFit_L1\", \"BestFit_L2\", \"BestFit_Linf\"]\n",
    "worstfit = [\"WorstFit_L1\", \"WorstFit_L2\", \"WorstFit_Linf\"]\n",
    "LA = [\"LA_binary\", \"LA_logsecond\"]\n",
    "HA = [\"HA\", \"Reduced_HA\", \"HA_DirectSum\",\"Reduced_HA_DirectSum\"]\n",
    "RCP =[\"RCP\", \"RCP_NOLARGE\", \"PPE\", \"PPE_NOLARGE\"]\n",
    "CRT = [\"CRT\", \"BestCRT\"]\n",
    "clairalgo = [\"Classifybydeparture\", \"Classifybyduration\",\"Reduced_HA\", \"LA\", \"Greedy\", \"BestCRT\"]\n",
    "learningalgo = [\"RCP\", \"LA\",  \"Greedy\", \"BestCRT\"]\n",
    "lower = [\"lowerbound\"]\n",
    "CBDU = [\"Classifybyduration_p_\" + str(p) for p in [1.25, 1.5, 2, 3, 4, 5, 8]]\n",
    "CBDE = [\"Classifybydeparture_p_\" + str(p) for p in [0.0625, 0.125, 0.25, 0.5, 1, 2, 4, 8]]"
   ]
  },
  {
   "cell_type": "code",
   "execution_count": null,
   "metadata": {},
   "outputs": [],
   "source": [
    "## Read CBD two.\n",
    "\n",
    "activeTimeCB = {}\n",
    "need = []\n",
    "for algo in CBDE + CBDU:\n",
    "    if activeTimeCB.get(algo) != None:\n",
    "        continue\n",
    "    \n",
    "    activeTimeCB[algo] = [i for i in validIds]\n",
    "    need.append(algo)\n",
    "\n",
    "def analyse(algo, machineId, idx):\n",
    "    try:\n",
    "        data = pd.read_csv(\"generated/Results/\" + algo + \"_pId_\" + str(machineId) + \"_nbin.csv\")   \n",
    "        if not valid(data):\n",
    "            print(machineId, algo, \"Validate Failed\")\n",
    "            return\n",
    "    except:\n",
    "        print(machineId, algo, \"Got Problem\")\n",
    "        return \n",
    "    # print(algo)\n",
    "    activeTimeCB[algo][idx] = calculate_active_time(data)\n",
    "    del data\n",
    "\n",
    "max_concurrent_processes = 80\n",
    "\n",
    "idx = 0\n",
    "futures = []\n",
    "with concurrent.futures.ThreadPoolExecutor(max_workers=max_concurrent_processes) as executor:\n",
    "    for machineId in validIds:\n",
    "        for algo in need:\n",
    "            futures.append(executor.submit(analyse(algo, machineId, idx)))        \n",
    "        idx += 1\n",
    "    for future in concurrent.futures.as_completed(futures):\n",
    "    # You can handle the result or exceptions here if needed\n",
    "        future.result()"
   ]
  },
  {
   "cell_type": "code",
   "execution_count": null,
   "metadata": {},
   "outputs": [],
   "source": [
    "## Read No Error\n",
    "\n",
    "nclairalgo = [\"FirstFit\", \"BestFit\", \"WorstFit\", \"NextFit\", \"RRNextFit\", \"MRU\", \"LRU\"]\n",
    "algorun = bestfit + worstfit + [\"FirstFit\", \"NextFit\", \"RRNextFit\", \"MRU\", \"LRU\"]\n",
    "algorun += LA + HA + RCP + CRT + [\"Classifybydeparture\", \"Classifybyduration\", \"Greedy\"] + lower\n",
    "activeTimenormal = {}\n",
    "\n",
    "for algo in algorun:\n",
    "    activeTimenormal[algo] = [0 for i in validIds]\n",
    "\n",
    "\n",
    "def read_input(algo, idx, machineId):\n",
    "    try:\n",
    "        data = pd.read_csv(\"generated/Results/\" + algo + \"_pId_\" + str(machineId) + \"_nbin.csv\")   \n",
    "        if not valid(data):\n",
    "            print(machineId, algo, \"Validate Failed\")\n",
    "            return\n",
    "    except Exception as exp:\n",
    "        print(machineId, algo, \"Got Problem\", exp)\n",
    "        return\n",
    "    activeTimenormal[algo][idx] = calculate_active_time(data)\n",
    "    del data\n",
    "    \n",
    "max_concurrent_processes = 80\n",
    "\n",
    "with concurrent.futures.ThreadPoolExecutor(max_workers=max_concurrent_processes) as executor:\n",
    "    idx = 0\n",
    "    futures = []\n",
    "    for machineId in validIds:\n",
    "        futures += [executor.submit(read_input, algo, idx, machineId) for algo in algorun] \n",
    "        idx += 1\n",
    "    for future in concurrent.futures.as_completed(futures):\n",
    "        # You can handle the result or exceptions here if needed\n",
    "        future.result()\n"
   ]
  },
  {
   "cell_type": "code",
   "execution_count": null,
   "metadata": {},
   "outputs": [],
   "source": [
    "error_log = [0.5, 1, 1.5, 2, 2.5, 3, 4, 5, 7.5, 10, 12.5, 15]"
   ]
  },
  {
   "cell_type": "code",
   "execution_count": null,
   "metadata": {},
   "outputs": [],
   "source": [
    "## Log Normal error \n",
    "algorun_error = [\"LA_binary\", \"LA_logsecond\", 'Classifybydeparture', 'Classifybyduration', 'HA', 'Reduced_HA', 'HA_DirectSum', 'Reduced_HA_DirectSum', 'CRT',  'Greedy', 'BestCRT', 'RCP', 'RCP_NOLARGE', 'PPE', 'PPE_NOLARGE']\n",
    "\n",
    "activeTimeerror = {}\n",
    "for e in error_log:\n",
    "    activeTimeerror[e] = {}\n",
    "    for algo in algorun_error:\n",
    "        activeTimeerror[e][algo] = [0 for i in validIds]\n",
    "\n",
    "\n",
    "def read_input(e, algo, idx, machineId):\n",
    "    try:\n",
    "        data = pd.read_csv(\"generated/Results_e_log\" + str(e) + \"/\" + algo + \"_pId_\" + str(machineId) + \"_nbin.csv\")   \n",
    "        if not valid(data):\n",
    "            print(machineId, algo, e, \"Validate Failed\")\n",
    "            return\n",
    "    except Exception as exp:\n",
    "        print(machineId, algo, e, \"Got Problem\", exp)\n",
    "        return\n",
    "    activeTimeerror[e][algo][idx] = calculate_active_time(data)\n",
    "    del data\n",
    "    \n",
    "max_concurrent_processes = 80\n",
    "\n",
    "with concurrent.futures.ThreadPoolExecutor(max_workers=max_concurrent_processes) as executor:\n",
    "    idx = 0\n",
    "    futures = []\n",
    "    for machineId in validIds:\n",
    "        futures += [executor.submit(read_input, e, algo, idx, machineId) for e in error_log for algo in algorun_error] \n",
    "        idx += 1\n",
    "    for future in concurrent.futures.as_completed(futures):\n",
    "        # You can handle the result or exceptions here if needed\n",
    "        future.result()"
   ]
  },
  {
   "cell_type": "markdown",
   "metadata": {},
   "source": [
    "## Compile all result to a single csv"
   ]
  },
  {
   "cell_type": "code",
   "execution_count": null,
   "metadata": {},
   "outputs": [],
   "source": [
    "activeTime = pd.DataFrame(activeTimenormal)\n",
    "activeTime['error'] = [0 for i in validIds]\n",
    "activeTime['pId'] = validIds "
   ]
  },
  {
   "cell_type": "code",
   "execution_count": null,
   "metadata": {},
   "outputs": [],
   "source": [
    "for e in error_log:\n",
    "    temp = pd.DataFrame(activeTimeerror[e])\n",
    "    temp['error'] = [e for i in validIds]\n",
    "    temp['pId'] = validIds \n",
    "    activeTime = pd.concat([activeTime, temp]).reset_index(drop = True)\n",
    "activeTime"
   ]
  },
  {
   "cell_type": "code",
   "execution_count": null,
   "metadata": {},
   "outputs": [],
   "source": [
    "activeTimetemp = activeTime.copy()\n",
    "activeTimetemp['pId'] = 1\n",
    "for column in activeTimetemp.columns:\n",
    "    if column == 'pId':\n",
    "        continue\n",
    "    if column == 'error':\n",
    "        continue\n",
    "    activeTimetemp[column] = activeTimetemp[column] - [1,1]\n",
    "activeTime = pd.concat([activeTime, activeTimetemp]).reset_index(drop = True)"
   ]
  },
  {
   "cell_type": "code",
   "execution_count": null,
   "metadata": {},
   "outputs": [],
   "source": [
    "activeTimeCB_df = pd.DataFrame(activeTimeCB)\n",
    "lowerbound = activeTime[(activeTime.error == 0) & (activeTime.pId != 18)]['lowerbound']"
   ]
  },
  {
   "cell_type": "markdown",
   "metadata": {},
   "source": [
    "# Analyse Performance Ratio (Box Plot)"
   ]
  },
  {
   "cell_type": "code",
   "execution_count": null,
   "metadata": {},
   "outputs": [],
   "source": [
    "lower_base = activeTime[(activeTime.error == 0) & (activeTime.pId != 18)].lowerbound"
   ]
  },
  {
   "cell_type": "code",
   "execution_count": null,
   "metadata": {},
   "outputs": [],
   "source": [
    "plt.rcParams.update({'font.size': 12, \"text.usetex\": False, \"font.family\": \"Helvetica\"})\n",
    "meanprops = {\n",
    "    \"marker\": \"s\",       # Shape of the mean marker\n",
    "    \"markerfacecolor\": \"red\",  # Color of the mean marker\n",
    "    \"markeredgecolor\": \"black\",\n",
    "    \"markersize\": 10      # Size of the mean marker\n",
    "}"
   ]
  },
  {
   "cell_type": "code",
   "execution_count": null,
   "metadata": {},
   "outputs": [],
   "source": [
    "plot_df = activeTime[(activeTime.error == 0) & (activeTime.pId != 18)][bestfit]\n",
    "\n",
    "plot_df = plot_df.divide(lower_base, axis = 0)\n",
    "plot_df.plot(kind='box',figsize = (7, 5), widths = 0.6, showmeans = True, meanprops = meanprops)# , meanline = True)\n",
    "labels = plot_df.columns\n",
    "labels = [\"BestFit L1\", \"BestFit L2\", \"BestFit \" + r\"$\\\\ell_\\\\infty$\"]\n",
    "labels = ['\\n'.join(wrap(l, 12)) for l in labels]\n",
    "plt.ylabel(\"Performance Ratio\")\n",
    "plt.xticks([i for i in range(1, 1 + len(labels))],labels)\n",
    "plt.savefig(\"analyzer/bestfitbox.png\", bbox_inches='tight')\n",
    "plt.show()\n",
    "plt.clf()"
   ]
  },
  {
   "cell_type": "code",
   "execution_count": null,
   "metadata": {},
   "outputs": [],
   "source": [
    "plot_df = activeTime[(activeTime.error == 0) & (activeTime.pId != 18)][worstfit]\n",
    "plot_df = plot_df.divide(lower_base, axis = 0)\n",
    "\n",
    "plot_df.plot(kind='box',figsize = (7, 5), title='BoxPlot of the distribution of Worst Fit Algorithms', widths = 0.6, showmeans = True, meanprops=meanprops)\n",
    "labels = [\"WorstFit L1\", \"WorstFit L2\", \"WorstFit Linf (Max)\", \"WorstFit Linf (Min)\"]\n",
    "labels = ['\\n'.join(wrap(l, 14)) for l in labels]\n",
    "plt.xlabel(\"Algorithm (algo)\") \n",
    "plt.ylabel(\"Ratio of algo/lowerbound\")\n",
    "plt.xticks([i for i in range(1, 1 + len(labels))],labels)\n",
    "\n",
    "plt.savefig(\"analyzer/worstfitbox.png\", bbox_inches='tight')\n",
    "plt.show()\n",
    "plt.clf()"
   ]
  },
  {
   "cell_type": "code",
   "execution_count": null,
   "metadata": {},
   "outputs": [],
   "source": [
    "activeTime[\"BestFit\"] = activeTime[\"BestFit_Linf\"]\n",
    "activeTime[\"WorstFit\"] = activeTime[\"WorstFit_Linf\"]\n",
    "nclair = activeTime[activeTime.pId != 18][nclairalgo]\n",
    "nclair = nclair.divide(activeTime['lowerbound'], axis = 0)\n",
    "nclair = nclair.rename(columns={\"RRNextFit\": \"Round Robin NextFit\"})\n",
    "\n",
    "nclair.plot(kind='box',figsize = (12, 5), widths = 0.6, showmeans = True, meanprops=meanprops)\n",
    "labels = nclair.columns\n",
    "\n",
    "labels = ['\\n'.join(wrap(l, 12)) for l in labels]\n",
    "plt.title('BoxPlot of the distribution of algorithm in non-clarivoyant settings')\n",
    "plt.xlabel(\"Algorithm (algo)\") \n",
    "plt.ylabel(\"Ratio of algo/lowerbound\")\n",
    "plt.xticks([i for i in range(1, 1 + len(labels))],labels)\n",
    "plt.ylim(bottom = 1, top = 2)\n",
    "plt.savefig(\"analyzer/nclairboxlim.png\", bbox_inches='tight')\n",
    "plt.show()\n",
    "plt.clf()"
   ]
  },
  {
   "cell_type": "code",
   "execution_count": null,
   "metadata": {},
   "outputs": [],
   "source": [
    "\n",
    "duration = activeTime[(activeTime.error == 0) & (activeTime.pId != 18)]\n",
    "#print(non_clair)\n",
    "CBDU2 = [ 'Classifybyduration_p_1.25',\n",
    " 'Classifybyduration_p_1.5',\n",
    " 'Classifybyduration_p_1.75',\n",
    " 'Classifybyduration_p_2',\n",
    " 'Classifybyduration_p_3',\n",
    " 'Classifybyduration_p_4',\n",
    " 'Classifybyduration_p_5',\n",
    " 'Classifybyduration_p_8'\n",
    "]\n",
    "duration = duration[CBDU2]\n",
    "duration = duration.divide(lowerbound, axis = 0)\n",
    "duration.plot(kind='box',figsize = (12, 5), title='BoxPlot of the distribution of Classify By Duration', showmeans=True, meanprops=meanprops)\n",
    "labels = [name.split(\"_\")[-1] for name in CBDU2]\n",
    "labels = ['\\n'.join(wrap(l, 12)) for l in labels]\n",
    "plt.xlabel(\"max/min ratio for each category (days)\") \n",
    "plt.ylabel(\"Ratio of algo/lowerbound\")\n",
    "plt.xticks([i for i in range(1, 1 + len(labels))],labels)\n",
    "plt.ylim((1.05,1.2))\n",
    "plt.savefig(\"analyzer/Durationbox.png\", bbox_inches='tight')\n",
    "\n",
    "plt.show()\n",
    "plt.clf()\n"
   ]
  },
  {
   "cell_type": "code",
   "execution_count": null,
   "metadata": {},
   "outputs": [],
   "source": [
    "depart = activeTime[(activeTime.error == 0) & (activeTime.pId != 18)]\n",
    "CBDE2 = ['Classifybydeparture_p_0.0625',\n",
    " 'Classifybydeparture_p_0.125',\n",
    " 'Classifybydeparture_p_0.25',\n",
    " 'Classifybydeparture_p_0.5',\n",
    "  'Classifybydeparture_p_1',\n",
    " 'Classifybydeparture_p_2',\n",
    " 'Classifybydeparture_p_4',\n",
    " 'Classifybydeparture_p_8']\n",
    "#print(non_clair)\n",
    "depart = depart[CBDE2]\n",
    "depart = depart.divide(lowerbound, axis = 0)\n",
    "depart.plot(kind='box',figsize = (12, 5), title='BoxPlot of the distribution of Classify By Departure Time', showmeans=True, meanprops=meanprops)\n",
    "labels = [name.split(\"_\")[-1] for name in CBDE2]\n",
    "labels = ['\\n'.join(wrap(l, 12)) for l in labels]\n",
    "print(labels)\n",
    "plt.xlabel(\"Width of Departure Time (Day)\") \n",
    "plt.ylabel(\"Ratio of algo/lowerbound\")\n",
    "plt.xticks([i for i in range(1, 1 + len(labels))],labels)\n",
    "plt.ylim((1,1.2))\n",
    "plt.savefig(\"analyzer/Departurebox.png\", bbox_inches='tight')\n",
    "plt.show()\n",
    "plt.clf()\n"
   ]
  },
  {
   "cell_type": "code",
   "execution_count": null,
   "metadata": {},
   "outputs": [],
   "source": [
    "clair = activeTime[(activeTime.error == 0) & (activeTime.pId != 18)][[\"CRT\", \"BestCRT\"]]\n",
    "clair = clair.divide(lower_base, axis = 0)\n",
    "clair.rename(columns={\n",
    "    \"CRT\" : \"Standard NRT\",\n",
    "    \"ModifiedCRT\" : \"Fixed deactivating time\",\n",
    "    \"BestCRT\" : \"Prioritized NRT\"\n",
    "}, inplace = True)\n",
    "clair.plot(kind='box',figsize = (8, 5), title='BoxPlot of the distribution of Nearest Remaining Time Algorithms', widths=0.6, showmeans=True, meanprops=meanprops)\n",
    "labels = clair.columns\n",
    "labels = ['\\n'.join(wrap(l, 24)) for l in labels]\n",
    "plt.xlabel(\"Algorithm (algo)\") \n",
    "plt.ylabel(\"Ratio of algo/lowerbound\")\n",
    "plt.xticks([i for i in range(1, 1 + len(labels))],labels)\n",
    "plt.ylim(bottom = 1, top = 1.1)\n",
    "# plt.savefig(\"analyzer/CRTbox.png\", bbox_inches='tight')\n",
    "plt.show()\n",
    "plt.clf()"
   ]
  },
  {
   "cell_type": "code",
   "execution_count": null,
   "metadata": {},
   "outputs": [],
   "source": [
    "clair = activeTime[(activeTime.error == 0) & (activeTime.pId != 18)][HA]\n",
    "#print(non_clair)\n",
    "clair = clair.divide(lower_base, axis = 0)\n",
    "print(clair)\n",
    "clair.plot(kind='box',figsize = (10, 5), title='BoxPlot of the distribution of Hybrid Algorithms', showmeans = True, meanprops=meanprops)\n",
    "labels = clair.columns\n",
    "labels = ['\\n'.join(wrap(l, 12)) for l in labels]\n",
    "plt.xlabel(\"Algorithm (algo)\") \n",
    "plt.ylabel(\"Ratio of algo/lowerbound\")\n",
    "plt.xticks([i for i in range(1, 1 + len(labels))],labels)\n",
    "\n",
    "# plt.savefig(\"analyzer/HAbox.png\", bbox_inches='tight')\n",
    "plt.ylim(bottom = 1.05, top = 1.25)\n",
    "plt.show()\n",
    "plt.clf()"
   ]
  },
  {
   "cell_type": "code",
   "execution_count": null,
   "metadata": {},
   "outputs": [],
   "source": [
    "clair = activeTime[(activeTime.pId != 18) & (activeTime.error == 0)][[\n",
    "    'Classifybydeparture',\n",
    "    'Classifybyduration',\n",
    "    'Reduced_HA',\n",
    "    'Greedy',\n",
    "    'BestCRT']]\n",
    "\n",
    "\n",
    "clair = clair.divide(lower_base, axis = 0)\n",
    "clair = clair.rename( columns = {\n",
    "    \"BestCRT\":\"Prioritized NRT\",\n",
    "    \"Reduced_HA\":  \"Reduced Hybrid\"\n",
    "})\n",
    "\n",
    "clair.plot(kind='box',figsize = (10, 5), showmeans = True, meanprops=meanprops)\n",
    "labels = clair.columns\n",
    "labels = ['\\n'.join(wrap(l, 12)) for l in labels]\n",
    "plt.title('BoxPlot of the distribution of algorithm in online clarivoyant settings')\n",
    "plt.xlabel(\"Algorithm (algo)\") \n",
    "plt.ylabel(\"Ratio of algo/lowerbound\")\n",
    "plt.xticks([i for i in range(1, 1 + len(labels))],labels)\n",
    "plt.ylim(bottom = 1, top = 1.2)\n",
    "plt.savefig(\"analyzer/clairboxelim.png\", bbox_inches='tight')\n",
    "plt.show()\n",
    "plt.clf()"
   ]
  },
  {
   "cell_type": "markdown",
   "metadata": {},
   "source": [
    "## Learning Augmented Settings"
   ]
  },
  {
   "cell_type": "code",
   "execution_count": null,
   "metadata": {},
   "outputs": [],
   "source": [
    "algorithm_colors = {\n",
    "    \"First Fit\": \"black\",\n",
    "    \"RCP\": \"blue\",\n",
    "    \"RCP_NOLARGE\": \"dodgerblue\",\n",
    "    \"PPE\": \"green\",\n",
    "    \"PPE_NOLARGE\": \"darkolivegreen\",\n",
    "    \"LA_binary\": \"gold\",\n",
    "    \"LA_logsecond\": \"brown\",\n",
    "    \"Classifybyduration\": \"red\",\n",
    "    \"Classifybydeparture\": \"darkgreen\",\n",
    "    \"Greedy\": \"purple\",\n",
    "    \"BestCRT\": \"magenta\",\n",
    "    \"Reduced_HA\": \"teal\",\n",
    "}\n",
    "\n",
    "present_name = {\n",
    "    \"FirstFit\": \"FirstFit\",\n",
    "    \"RCP\": \"RCP\",\n",
    "    \"RCP_NOLARGE\": \"RCP Without Large Bin\",\n",
    "    \"PPE\": \"PPE\",\n",
    "    \"PPE_NOLARGE\": \"PPE Without Large Bin\",\n",
    "    \"LA_binary\": \"LA (Binary Classification)\",\n",
    "    \"LA_logsecond\": \"LA (Geometric Ranges)\",\n",
    "    \"Classifybyduration\": \"Classify By Duration\",\n",
    "    \"Classifybydeparture\": \"Classify By Departure Time\",\n",
    "    \"Greedy\": \"Greedy\",\n",
    "    \"BestCRT\": \"Prioritized NRT\",\n",
    "    \"Reduced_HA\": \"Reduced Hybrid\",\n",
    "}"
   ]
  },
  {
   "cell_type": "code",
   "execution_count": null,
   "metadata": {},
   "outputs": [],
   "source": [
    "imptalgo = [\"Classifybyduration\", \"Classifybydeparture\", \"Greedy\", \"BestCRT\", \"Reduced_HA\",\n",
    "            \"LA_binary\", \"LA_logsecond\", \"RCP\", \"RCP_NOLARGE\", \"PPE\", \"PPE_NOLARGE\"]\n",
    "\n",
    "mean_df_s0 = {}\n",
    "for e in [0] + error_log:\n",
    "    temp = activeTime[(activeTime.error == e) & (activeTime.pId != 18)][imptalgo].reset_index(drop = True)\n",
    "    temp = temp.divide(lower_base, axis = 0)\n",
    "    mean_df_s0[e] = temp.mean()\n",
    "mean_df_s0 = pd.DataFrame(mean_df_s0).T.reset_index().rename(columns={'index':'error'})\n",
    "firstfitmean = (activeTime[(activeTime.error == 0) & (activeTime.pId != 18)]['FirstFit'].reset_index(drop=True)/lower_base).mean()"
   ]
  },
  {
   "cell_type": "code",
   "execution_count": null,
   "metadata": {},
   "outputs": [],
   "source": [
    "plt.figure(figsize=(10,5))\n",
    "# plt.xscale('log', basex = 10)\n",
    "plot_df = mean_df_s0[[\"LA_binary\", \"LA_logsecond\", 'error']]#.drop([\"Classifybydeparture\"], axis = 1)[RCP +['error']]\n",
    "for k in plot_df.columns:\n",
    "    if k == 'error':\n",
    "        continue\n",
    "    plt.plot(plot_df['error'], plot_df[k], 'x-', label = present_name[k], color = algorithm_colors[k])\n",
    "plt.plot(plot_df['error'], [firstfitmean for _ in plot_df['error']], '--', label='FirstFit')\n",
    "plt.title(\"Results of Clairvoyant Algorithm across multiplicative error (Seed = 0)\")\n",
    "plt.legend()\n",
    "plt.xlabel(\"Maximum Multiplicative Error\")\n",
    "plt.ylabel(\"Mean Ratio\")\n",
    "# plt.savefig(\"analyzer/errorplot.png\")\n",
    "\n",
    "plt.show()\n"
   ]
  },
  {
   "cell_type": "code",
   "execution_count": null,
   "metadata": {},
   "outputs": [],
   "source": [
    "plt.figure(figsize=(10,5))\n",
    "# plt.xscale('log', basex = 10)\n",
    "plot_df = mean_df_s0[[\"RCP\", \"RCP_NOLARGE\", \"PPE\", \"PPE_NOLARGE\",'error']]#.drop([\"Classifybydeparture\"], axis = 1)[RCP +['error']]\n",
    "for k in plot_df.columns:\n",
    "    if k == 'error':\n",
    "        continue\n",
    "    plt.plot(plot_df['error'], plot_df[k], 'x-', label = present_name[k], color = algorithm_colors[k])\n",
    "plt.plot(plot_df['error'], [firstfitmean for _ in plot_df['error']], '--', label='FirstFit')\n",
    "plt.title(\"Results of Clairvoyant Algorithm across multiplicative error (Seed = 40)\")\n",
    "plt.legend()\n",
    "plt.xlabel(\"Maximum Multiplicative Error\")\n",
    "plt.ylabel(\"Mean Ratio\")\n",
    "# plt.savefig(\"analyzer/errorplot.png\")\n",
    "\n",
    "plt.show()\n"
   ]
  },
  {
   "cell_type": "code",
   "execution_count": null,
   "metadata": {},
   "outputs": [],
   "source": [
    "plt.figure(figsize=(10,5))\n",
    "# plt.xscale('log', basex = 10)\n",
    "plot_df = mean_df_s0[[\"Classifybydeparture\",\"Classifybyduration\",'error']]#.drop([\"Classifybydeparture\"], axis = 1)[RCP +['error']]\n",
    "for k in plot_df.columns:\n",
    "    if k == 'error':\n",
    "        continue\n",
    "    plt.plot(plot_df['error'], plot_df[k], 'x-', label = present_name[k], color = algorithm_colors[k])\n",
    "plt.plot(plot_df['error'], [firstfitmean for _ in plot_df['error']], '--', label='FirstFit')\n",
    "plt.title(\"Results of Clairvoyant Algorithm across multiplicative error (Seed = 40)\")\n",
    "plt.legend()\n",
    "plt.xlabel(\"Maximum Multiplicative Error\")\n",
    "plt.ylabel(\"Mean Ratio\")\n",
    "# plt.savefig(\"analyzer/errorplot.png\")\n",
    "\n",
    "plt.show()\n"
   ]
  },
  {
   "cell_type": "code",
   "execution_count": null,
   "metadata": {},
   "outputs": [],
   "source": [
    "plt.figure(figsize=(10,5))\n",
    "# plt.xscale('log', basex = 10)\n",
    "plot_df = mean_df_s0[[\"PPE_NOLARGE\", \"Greedy\", \"BestCRT\", \"LA_binary\",\"LA_logsecond\", 'Reduced_HA', 'error']]#.drop([\"Classifybydeparture\"], axis = 1)[RCP +['error']]\n",
    "for k in plot_df.columns:\n",
    "    if k == 'error':\n",
    "        continue\n",
    "    plt.plot(plot_df['error'], plot_df[k], 'x-', label = present_name[k], color = algorithm_colors[k])\n",
    "plt.plot(plot_df['error'], [firstfitmean for _ in plot_df['error']], '--', label='FirstFit')\n",
    "plt.title(\"Results of Clairvoyant Algorithm across multiplicative error (Seed = 40)\")\n",
    "plt.legend()\n",
    "plt.xlabel(\"Maximum Multiplicative Error\")\n",
    "plt.ylabel(\"Mean Ratio\")\n",
    "# plt.savefig(\"analyzer/errorplot.png\")\n",
    "\n",
    "plt.show()\n"
   ]
  }
 ],
 "metadata": {
  "kernelspec": {
   "display_name": "Python 3",
   "language": "python",
   "name": "python3"
  },
  "language_info": {
   "codemirror_mode": {
    "name": "ipython",
    "version": 3
   },
   "file_extension": ".py",
   "mimetype": "text/x-python",
   "name": "python",
   "nbconvert_exporter": "python",
   "pygments_lexer": "ipython3",
   "version": "3.11.5"
  }
 },
 "nbformat": 4,
 "nbformat_minor": 2
}
